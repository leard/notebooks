{
  "nbformat": 4,
  "nbformat_minor": 0,
  "metadata": {
    "colab": {
      "name": "Busca de Artigos.ipynb",
      "provenance": [],
      "mount_file_id": "1VZIjofz3pVfmXmHHZRYTn6Oo5qtGOqzR",
      "authorship_tag": "ABX9TyNDFLj+UbKUvseSJAWOnYlH",
      "include_colab_link": true
    },
    "kernelspec": {
      "name": "python3",
      "display_name": "Python 3"
    }
  },
  "cells": [
    {
      "cell_type": "markdown",
      "metadata": {
        "id": "view-in-github",
        "colab_type": "text"
      },
      "source": [
        "<a href=\"https://colab.research.google.com/github/leard/notebooks/blob/master/Busca_de_Artigos.ipynb\" target=\"_parent\"><img src=\"https://colab.research.google.com/assets/colab-badge.svg\" alt=\"Open In Colab\"/></a>"
      ]
    },
    {
      "cell_type": "code",
      "metadata": {
        "id": "ItvWuNOff5Qq",
        "colab_type": "code",
        "colab": {}
      },
      "source": [
        "!pip install scholarly\n",
        "!pip install free-proxy"
      ],
      "execution_count": null,
      "outputs": []
    },
    {
      "cell_type": "code",
      "metadata": {
        "id": "qygR3EMff_7r",
        "colab_type": "code",
        "colab": {}
      },
      "source": [
        "from fp.fp import FreeProxy\n",
        "from scholarly import scholarly\n",
        "import pandas as pd"
      ],
      "execution_count": 1,
      "outputs": []
    },
    {
      "cell_type": "code",
      "metadata": {
        "id": "BTHPLGiBiS6k",
        "colab_type": "code",
        "colab": {},
        "cellView": "both"
      },
      "source": [
        "search_term = '\\\"Virtual reality\\\" + \\\"EEG\\\" + \\\"EMG\\\" + Physiotherapy'\n",
        "number_of_items = 200\n",
        "\n",
        "labels = ['id', 'year', 'title', 'author', 'book_journal', 'type', 'organization', 'abstract_scholar', 'summary', 'cites', 'gsrank', 'citations_link','url','bibtex']\n",
        "publications = []\n",
        "\n",
        "scholarly.use_tor(tor_sock_port=9050, \n",
        "                  tor_control_port=9051, \n",
        "                  tor_password=\"12345\")\n",
        "\n",
        "search_query = scholarly.search_pubs(search_term)\n",
        "\n",
        "for i, pub in enumerate(search_query):\n",
        "    filled = None\n",
        "    publication = []\n",
        "    while True:\n",
        "        try:\n",
        "            filled = pub.fill()\n",
        "            print(f\"{i+1:03d} - {filled.bib['title']}\")\n",
        "            break\n",
        "        except Exception as e:\n",
        "            print(f'Tentando um novo proxy {e}')\n",
        "            #set_new_proxy()\n",
        "    if filled:\n",
        "        publication.append(filled.bib['year'])\n",
        "        publication.append(filled.bib['title'])\n",
        "        publication.append(filled.bib['author'])        \n",
        "        \n",
        "        if filled.bib['ENTRYTYPE'] == 'article':\n",
        "            try:\n",
        "                publication.append(filled.bib['journal'])\n",
        "            except:\n",
        "                publication.append('')\n",
        "\n",
        "        elif filled.bib['ENTRYTYPE'] == 'book' or filled.bib['ENTRYTYPE'] == 'misc':\n",
        "            try:\n",
        "                publication.append(filled.bib['publisher'])     \n",
        "            except:\n",
        "                publication.append('')\n",
        "        else:\n",
        "            publication.append(filled.bib['booktitle'])\n",
        "\n",
        "\n",
        "        publication.append(filled.bib['ENTRYTYPE'])\n",
        "        \n",
        "        if filled.bib['ENTRYTYPE'] == 'article':\n",
        "            try:\n",
        "                publication.append(filled.bib['publisher'])     \n",
        "            except:\n",
        "                publication.append('')\n",
        "        else:\n",
        "            try:\n",
        "                publication.append(filled.bib['organization'])\n",
        "            except:\n",
        "                publication.append('')\n",
        "        \n",
        "        \n",
        "        try:\n",
        "            publication.append(filled.bib['abstract'])\n",
        "        except:\n",
        "            publication.append('')\n",
        "\n",
        "        publication.append('')\n",
        "        publication.append(filled.bib['cites'])\n",
        "        publication.append(filled.bib['gsrank'])\n",
        "        \n",
        "        try:\n",
        "            publication.append('https://scholar.google.com'+filled.citations_link)\n",
        "        except:\n",
        "            publication.append('')\n",
        "\n",
        "        \n",
        "        try:\n",
        "            publication.append(filled.bib['url'])\n",
        "        except:\n",
        "            publication.append('')\n",
        "\n",
        "        publication.append(filled.bibtex)\n",
        "\n",
        "    publications.append(publication)\n",
        "\n",
        "    if i == number_of_items:\n",
        "        break\n",
        "    \n",
        "\n",
        "publications = pd.DataFrame(publications, columns=labels)"
      ],
      "execution_count": null,
      "outputs": []
    },
    {
      "cell_type": "code",
      "metadata": {
        "id": "O00f6d7LsCMc",
        "colab_type": "code",
        "colab": {}
      },
      "source": [
        "publications.head()"
      ],
      "execution_count": null,
      "outputs": []
    },
    {
      "cell_type": "code",
      "metadata": {
        "id": "e53Hu1avuGXj",
        "colab_type": "code",
        "colab": {}
      },
      "source": [
        "#busca1 \"Virtual reality\" + \"EEG\" + \"EMG\" + Physiotherapy\n",
        "publications.to_csv('./busca1.csv', index_label='id')\n",
        "\n",
        "#busca2 \"Virtual reality\" + \"EEG\" + \"EMG\" + Rehabilitation\n",
        "#publications.to_csv('./busca2.csv', index_label='id')"
      ],
      "execution_count": null,
      "outputs": []
    }
  ]
}